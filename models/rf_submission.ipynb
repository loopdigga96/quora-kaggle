{
 "cells": [
  {
   "cell_type": "code",
   "execution_count": 1,
   "metadata": {
    "collapsed": true,
    "deletable": true,
    "editable": true
   },
   "outputs": [],
   "source": [
    "#1 tf-idf \n",
    "#2 td-idf + nltk.pos_tag\n",
    "#3 add n-grams\n",
    "#4 use microsoft nnet\n",
    "#5 use keras embedding with cnn\n",
    "\n",
    "#Previous score\n",
    "# Log_loss - 10.3227065134\n",
    "# Acc_loss - 0.70113037671"
   ]
  },
  {
   "cell_type": "code",
   "execution_count": 1,
   "metadata": {
    "collapsed": true,
    "deletable": true,
    "editable": true
   },
   "outputs": [],
   "source": [
    "def submit(y_pred, test, filename):\n",
    "    sub = pd.DataFrame()\n",
    "    sub = pd.DataFrame()\n",
    "    sub['test_id'] = test['test_id']\n",
    "    sub['is_duplicate'] = y_test\n",
    "    sub.to_csv(filename, index=False)\n",
    "\n",
    "def save_sparse_csr(filename,array):\n",
    "    np.savez(filename,data = array.data ,indices=array.indices,\n",
    "             indptr =array.indptr, shape=array.shape )\n",
    "\n",
    "def load_sparse_csr(filename):\n",
    "    loader = np.load(filename)\n",
    "    return csr_matrix((  loader['data'], loader['indices'], loader['indptr']),\n",
    "                         shape = loader['shape'])"
   ]
  },
  {
   "cell_type": "code",
   "execution_count": 15,
   "metadata": {
    "collapsed": false,
    "deletable": true,
    "editable": true
   },
   "outputs": [],
   "source": [
    "def correct_dataset(dataset):\n",
    "    dataset.loc[(dataset['question1'] == dataset['question2']), 'is_duplicate'] = 1\n",
    "    return dataset\n",
    "\n",
    "def process_dataset(dataset, correct_dataset=False):\n",
    "    dataset['question1'].fillna(' ', inplace=True)\n",
    "    dataset['question2'].fillna(' ', inplace=True)\n",
    "    \n",
    "    #delete punctuation\n",
    "    dataset['question1'] = dataset['question1'].str.replace('[^\\w\\s]','')\n",
    "    dataset['question2'] = dataset['question2'].str.replace('[^\\w\\s]','')\n",
    "\n",
    "    #lower questions\n",
    "    dataset['question1'] = dataset['question1'].str.lower()\n",
    "    dataset['question2'] = dataset['question2'].str.lower()\n",
    "\n",
    "    #union questions\n",
    "    dataset['union'] = pd.Series(dataset['question1']).str.cat(dataset['question2'], sep=' ')\n",
    "\n",
    "    if correct_dataset:\n",
    "        return correct_dataset(dataset)\n",
    "    else:\n",
    "        return dataset\n",
    "\n",
    "def split_and_rem_stop_words(line):\n",
    "    cachedStopWords = stopwords.words(\"english\")\n",
    "    return [word for word in line.split() if word not in cachedStopWords]"
   ]
  },
  {
   "cell_type": "code",
   "execution_count": 16,
   "metadata": {
    "collapsed": false,
    "deletable": true,
    "editable": true
   },
   "outputs": [],
   "source": [
    "import pandas as pd\n",
    "import numpy as np\n",
    "import seaborn as sns\n",
    "%matplotlib inline\n",
    "import nltk\n",
    "import sklearn as sk\n",
    "from sklearn.feature_extraction.text import TfidfVectorizer\n",
    "from keras.preprocessing.text import Tokenizer\n",
    "from keras.preprocessing.sequence import pad_sequences\n",
    "from keras.layers import Dense, Input, Flatten\n",
    "from keras.layers import Conv1D, MaxPooling1D, Embedding\n",
    "from keras.models import Model\n",
    "from sklearn.ensemble import RandomForestClassifier\n",
    "from sklearn.model_selection import train_test_split\n",
    "from sklearn.metrics import log_loss, accuracy_score\n",
    "from nltk.corpus import stopwords\n",
    "import gensim, logging\n",
    "logging.basicConfig(format='%(asctime)s : %(levelname)s : %(message)s', level=logging.INFO)"
   ]
  },
  {
   "cell_type": "code",
   "execution_count": 4,
   "metadata": {
    "collapsed": false,
    "deletable": true,
    "editable": true
   },
   "outputs": [],
   "source": [
    "train = pd.read_csv('datasets/train.csv')\n",
    "test = pd.read_csv('datasets/test.csv')\n",
    "\n",
    "train = process_dataset(train)\n",
    "test = process_dataset(test)"
   ]
  },
  {
   "cell_type": "code",
   "execution_count": 17,
   "metadata": {
    "collapsed": false
   },
   "outputs": [],
   "source": [
    "train['union_splitted'] = train['union'].apply(lambda sentence: split_and_rem_stop_words(sentence))"
   ]
  },
  {
   "cell_type": "code",
   "execution_count": 30,
   "metadata": {
    "collapsed": false
   },
   "outputs": [],
   "source": [
    "max_sentence = train.union_splitted.map(len).max()\n",
    "min_sentence = train.union_splitted.map(len).min()"
   ]
  },
  {
   "cell_type": "code",
   "execution_count": 18,
   "metadata": {
    "collapsed": false
   },
   "outputs": [
    {
     "data": {
      "text/html": [
       "<div>\n",
       "<table border=\"1\" class=\"dataframe\">\n",
       "  <thead>\n",
       "    <tr style=\"text-align: right;\">\n",
       "      <th></th>\n",
       "      <th>id</th>\n",
       "      <th>qid1</th>\n",
       "      <th>qid2</th>\n",
       "      <th>question1</th>\n",
       "      <th>question2</th>\n",
       "      <th>is_duplicate</th>\n",
       "      <th>union</th>\n",
       "      <th>union_splitted</th>\n",
       "    </tr>\n",
       "  </thead>\n",
       "  <tbody>\n",
       "    <tr>\n",
       "      <th>0</th>\n",
       "      <td>0</td>\n",
       "      <td>1</td>\n",
       "      <td>2</td>\n",
       "      <td>what is the step by step guide to invest in sh...</td>\n",
       "      <td>what is the step by step guide to invest in sh...</td>\n",
       "      <td>0</td>\n",
       "      <td>what is the step by step guide to invest in sh...</td>\n",
       "      <td>[step, step, guide, invest, share, market, ind...</td>\n",
       "    </tr>\n",
       "    <tr>\n",
       "      <th>1</th>\n",
       "      <td>1</td>\n",
       "      <td>3</td>\n",
       "      <td>4</td>\n",
       "      <td>what is the story of kohinoor kohinoor diamond</td>\n",
       "      <td>what would happen if the indian government sto...</td>\n",
       "      <td>0</td>\n",
       "      <td>what is the story of kohinoor kohinoor diamond...</td>\n",
       "      <td>[story, kohinoor, kohinoor, diamond, would, ha...</td>\n",
       "    </tr>\n",
       "    <tr>\n",
       "      <th>2</th>\n",
       "      <td>2</td>\n",
       "      <td>5</td>\n",
       "      <td>6</td>\n",
       "      <td>how can i increase the speed of my internet co...</td>\n",
       "      <td>how can internet speed be increased by hacking...</td>\n",
       "      <td>0</td>\n",
       "      <td>how can i increase the speed of my internet co...</td>\n",
       "      <td>[increase, speed, internet, connection, using,...</td>\n",
       "    </tr>\n",
       "    <tr>\n",
       "      <th>3</th>\n",
       "      <td>3</td>\n",
       "      <td>7</td>\n",
       "      <td>8</td>\n",
       "      <td>why am i mentally very lonely how can i solve it</td>\n",
       "      <td>find the remainder when math2324math is divide...</td>\n",
       "      <td>0</td>\n",
       "      <td>why am i mentally very lonely how can i solve ...</td>\n",
       "      <td>[mentally, lonely, solve, find, remainder, mat...</td>\n",
       "    </tr>\n",
       "    <tr>\n",
       "      <th>4</th>\n",
       "      <td>4</td>\n",
       "      <td>9</td>\n",
       "      <td>10</td>\n",
       "      <td>which one dissolve in water quikly sugar salt ...</td>\n",
       "      <td>which fish would survive in salt water</td>\n",
       "      <td>0</td>\n",
       "      <td>which one dissolve in water quikly sugar salt ...</td>\n",
       "      <td>[one, dissolve, water, quikly, sugar, salt, me...</td>\n",
       "    </tr>\n",
       "  </tbody>\n",
       "</table>\n",
       "</div>"
      ],
      "text/plain": [
       "   id  qid1  qid2                                          question1  \\\n",
       "0   0     1     2  what is the step by step guide to invest in sh...   \n",
       "1   1     3     4     what is the story of kohinoor kohinoor diamond   \n",
       "2   2     5     6  how can i increase the speed of my internet co...   \n",
       "3   3     7     8   why am i mentally very lonely how can i solve it   \n",
       "4   4     9    10  which one dissolve in water quikly sugar salt ...   \n",
       "\n",
       "                                           question2  is_duplicate  \\\n",
       "0  what is the step by step guide to invest in sh...             0   \n",
       "1  what would happen if the indian government sto...             0   \n",
       "2  how can internet speed be increased by hacking...             0   \n",
       "3  find the remainder when math2324math is divide...             0   \n",
       "4             which fish would survive in salt water             0   \n",
       "\n",
       "                                               union  \\\n",
       "0  what is the step by step guide to invest in sh...   \n",
       "1  what is the story of kohinoor kohinoor diamond...   \n",
       "2  how can i increase the speed of my internet co...   \n",
       "3  why am i mentally very lonely how can i solve ...   \n",
       "4  which one dissolve in water quikly sugar salt ...   \n",
       "\n",
       "                                      union_splitted  \n",
       "0  [step, step, guide, invest, share, market, ind...  \n",
       "1  [story, kohinoor, kohinoor, diamond, would, ha...  \n",
       "2  [increase, speed, internet, connection, using,...  \n",
       "3  [mentally, lonely, solve, find, remainder, mat...  \n",
       "4  [one, dissolve, water, quikly, sugar, salt, me...  "
      ]
     },
     "execution_count": 18,
     "metadata": {},
     "output_type": "execute_result"
    }
   ],
   "source": [
    "train.head()"
   ]
  },
  {
   "cell_type": "code",
   "execution_count": 31,
   "metadata": {
    "collapsed": false
   },
   "outputs": [
    {
     "name": "stderr",
     "output_type": "stream",
     "text": [
      "2017-04-11 17:59:52,787 : INFO : collecting all words and their counts\n",
      "2017-04-11 17:59:52,788 : INFO : PROGRESS: at sentence #0, processed 0 words, keeping 0 word types\n",
      "2017-04-11 17:59:52,817 : INFO : PROGRESS: at sentence #10000, processed 110842 words, keeping 15889 word types\n",
      "2017-04-11 17:59:52,845 : INFO : PROGRESS: at sentence #20000, processed 221497 words, keeping 23104 word types\n",
      "2017-04-11 17:59:52,866 : INFO : PROGRESS: at sentence #30000, processed 332393 words, keeping 28724 word types\n",
      "2017-04-11 17:59:52,894 : INFO : PROGRESS: at sentence #40000, processed 442629 words, keeping 33290 word types\n",
      "2017-04-11 17:59:52,920 : INFO : PROGRESS: at sentence #50000, processed 553973 words, keeping 37495 word types\n",
      "2017-04-11 17:59:52,943 : INFO : PROGRESS: at sentence #60000, processed 664660 words, keeping 41167 word types\n",
      "2017-04-11 17:59:52,967 : INFO : PROGRESS: at sentence #70000, processed 775454 words, keeping 44525 word types\n",
      "2017-04-11 17:59:52,993 : INFO : PROGRESS: at sentence #80000, processed 886679 words, keeping 47538 word types\n",
      "2017-04-11 17:59:53,019 : INFO : PROGRESS: at sentence #90000, processed 997109 words, keeping 50378 word types\n",
      "2017-04-11 17:59:53,044 : INFO : PROGRESS: at sentence #100000, processed 1107801 words, keeping 53304 word types\n",
      "2017-04-11 17:59:53,068 : INFO : PROGRESS: at sentence #110000, processed 1217243 words, keeping 55932 word types\n",
      "2017-04-11 17:59:53,093 : INFO : PROGRESS: at sentence #120000, processed 1327824 words, keeping 58361 word types\n",
      "2017-04-11 17:59:53,118 : INFO : PROGRESS: at sentence #130000, processed 1439135 words, keeping 60859 word types\n",
      "2017-04-11 17:59:53,145 : INFO : PROGRESS: at sentence #140000, processed 1550433 words, keeping 63217 word types\n",
      "2017-04-11 17:59:53,171 : INFO : PROGRESS: at sentence #150000, processed 1661890 words, keeping 65626 word types\n",
      "2017-04-11 17:59:53,198 : INFO : PROGRESS: at sentence #160000, processed 1773442 words, keeping 67889 word types\n",
      "2017-04-11 17:59:53,222 : INFO : PROGRESS: at sentence #170000, processed 1884607 words, keeping 69904 word types\n",
      "2017-04-11 17:59:53,247 : INFO : PROGRESS: at sentence #180000, processed 1996244 words, keeping 71998 word types\n",
      "2017-04-11 17:59:53,267 : INFO : PROGRESS: at sentence #190000, processed 2107414 words, keeping 73910 word types\n",
      "2017-04-11 17:59:53,292 : INFO : PROGRESS: at sentence #200000, processed 2217690 words, keeping 75809 word types\n",
      "2017-04-11 17:59:53,317 : INFO : PROGRESS: at sentence #210000, processed 2328075 words, keeping 77682 word types\n",
      "2017-04-11 17:59:53,342 : INFO : PROGRESS: at sentence #220000, processed 2438747 words, keeping 79489 word types\n",
      "2017-04-11 17:59:53,367 : INFO : PROGRESS: at sentence #230000, processed 2549833 words, keeping 81295 word types\n",
      "2017-04-11 17:59:53,394 : INFO : PROGRESS: at sentence #240000, processed 2660238 words, keeping 82994 word types\n",
      "2017-04-11 17:59:53,420 : INFO : PROGRESS: at sentence #250000, processed 2771487 words, keeping 84820 word types\n",
      "2017-04-11 17:59:53,444 : INFO : PROGRESS: at sentence #260000, processed 2883236 words, keeping 86574 word types\n",
      "2017-04-11 17:59:53,476 : INFO : PROGRESS: at sentence #270000, processed 2995182 words, keeping 88277 word types\n",
      "2017-04-11 17:59:53,502 : INFO : PROGRESS: at sentence #280000, processed 3106000 words, keeping 89921 word types\n",
      "2017-04-11 17:59:53,524 : INFO : PROGRESS: at sentence #290000, processed 3216907 words, keeping 91541 word types\n",
      "2017-04-11 17:59:53,550 : INFO : PROGRESS: at sentence #300000, processed 3327044 words, keeping 93172 word types\n",
      "2017-04-11 17:59:53,577 : INFO : PROGRESS: at sentence #310000, processed 3437812 words, keeping 94709 word types\n",
      "2017-04-11 17:59:53,606 : INFO : PROGRESS: at sentence #320000, processed 3548152 words, keeping 96171 word types\n",
      "2017-04-11 17:59:53,633 : INFO : PROGRESS: at sentence #330000, processed 3659521 words, keeping 97707 word types\n",
      "2017-04-11 17:59:53,659 : INFO : PROGRESS: at sentence #340000, processed 3769913 words, keeping 99101 word types\n",
      "2017-04-11 17:59:53,682 : INFO : PROGRESS: at sentence #350000, processed 3880766 words, keeping 100536 word types\n",
      "2017-04-11 17:59:53,710 : INFO : PROGRESS: at sentence #360000, processed 3991804 words, keeping 101954 word types\n",
      "2017-04-11 17:59:53,736 : INFO : PROGRESS: at sentence #370000, processed 4102433 words, keeping 103335 word types\n",
      "2017-04-11 17:59:53,766 : INFO : PROGRESS: at sentence #380000, processed 4213923 words, keeping 104808 word types\n",
      "2017-04-11 17:59:53,793 : INFO : PROGRESS: at sentence #390000, processed 4326079 words, keeping 106244 word types\n",
      "2017-04-11 17:59:53,824 : INFO : PROGRESS: at sentence #400000, processed 4438291 words, keeping 107566 word types\n",
      "2017-04-11 17:59:53,838 : INFO : collected 108152 word types from a corpus of 4486323 raw words and 404290 sentences\n",
      "2017-04-11 17:59:53,839 : INFO : Loading a fresh vocabulary\n",
      "2017-04-11 17:59:53,974 : INFO : min_count=5 retains 31660 unique words (29% of original 108152, drops 76492)\n",
      "2017-04-11 17:59:53,975 : INFO : min_count=5 leaves 4366911 word corpus (97% of original 4486323, drops 119412)\n",
      "2017-04-11 17:59:54,070 : INFO : deleting the raw counts dictionary of 108152 items\n",
      "2017-04-11 17:59:54,075 : INFO : sample=0.001 downsamples 23 most-common words\n",
      "2017-04-11 17:59:54,076 : INFO : downsampling leaves estimated 4207849 word corpus (96.4% of prior 4366911)\n",
      "2017-04-11 17:59:54,077 : INFO : estimated required memory for 31660 words and 100 dimensions: 41158000 bytes\n",
      "2017-04-11 17:59:54,166 : INFO : resetting layer weights\n",
      "2017-04-11 17:59:54,444 : INFO : training model with 3 workers on 31660 vocabulary and 100 features, using sg=0 hs=0 sample=0.001 negative=5 window=5\n",
      "2017-04-11 17:59:55,451 : INFO : PROGRESS: at 7.63% examples, 1602484 words/s, in_qsize 5, out_qsize 0\n",
      "2017-04-11 17:59:56,452 : INFO : PROGRESS: at 15.34% examples, 1610916 words/s, in_qsize 5, out_qsize 0\n",
      "2017-04-11 17:59:57,455 : INFO : PROGRESS: at 22.15% examples, 1550343 words/s, in_qsize 5, out_qsize 0\n",
      "2017-04-11 17:59:58,457 : INFO : PROGRESS: at 28.30% examples, 1485466 words/s, in_qsize 5, out_qsize 0\n",
      "2017-04-11 17:59:59,461 : INFO : PROGRESS: at 36.14% examples, 1516943 words/s, in_qsize 5, out_qsize 0\n",
      "2017-04-11 18:00:00,467 : INFO : PROGRESS: at 43.93% examples, 1536133 words/s, in_qsize 5, out_qsize 0\n",
      "2017-04-11 18:00:01,467 : INFO : PROGRESS: at 51.60% examples, 1546895 words/s, in_qsize 5, out_qsize 0\n",
      "2017-04-11 18:00:02,475 : INFO : PROGRESS: at 59.35% examples, 1555919 words/s, in_qsize 5, out_qsize 0\n",
      "2017-04-11 18:00:03,479 : INFO : PROGRESS: at 67.06% examples, 1562456 words/s, in_qsize 5, out_qsize 0\n",
      "2017-04-11 18:00:04,483 : INFO : PROGRESS: at 74.86% examples, 1569660 words/s, in_qsize 5, out_qsize 0\n",
      "2017-04-11 18:00:05,484 : INFO : PROGRESS: at 82.69% examples, 1576757 words/s, in_qsize 5, out_qsize 0\n",
      "2017-04-11 18:00:06,484 : INFO : PROGRESS: at 90.54% examples, 1582810 words/s, in_qsize 5, out_qsize 0\n",
      "2017-04-11 18:00:07,488 : INFO : PROGRESS: at 98.43% examples, 1588179 words/s, in_qsize 5, out_qsize 0\n",
      "2017-04-11 18:00:07,684 : INFO : worker thread finished; awaiting finish of 2 more threads\n",
      "2017-04-11 18:00:07,689 : INFO : worker thread finished; awaiting finish of 1 more threads\n",
      "2017-04-11 18:00:07,690 : INFO : worker thread finished; awaiting finish of 0 more threads\n",
      "2017-04-11 18:00:07,691 : INFO : training on 22431615 raw words (21039410 effective words) took 13.2s, 1588992 effective words/s\n"
     ]
    }
   ],
   "source": [
    "model = gensim.models.Word2Vec(train['union_splitted'].tolist())"
   ]
  },
  {
   "cell_type": "code",
   "execution_count": 7,
   "metadata": {
    "collapsed": false,
    "deletable": true,
    "editable": true
   },
   "outputs": [],
   "source": [
    "TF_IDF = TfidfVectorizer(min_df=3, ngram_range=(1, 2), max_df=0.3, stop_words='english')\n",
    "#TF_IDF = TF_IDF.fit(train['union'].append(test['union']).tolist())\n",
    "\n",
    "TF_IDF = TF_IDF.fit(test['union'].tolist())\n",
    "\n",
    "X = TF_IDF.transform(train['union'].tolist())\n",
    "X_test = TF_IDF.transform(test['union'].tolist())\n",
    "\n",
    "y = train['is_duplicate'].tolist()\n",
    "X_train, X_val, y_train, y_val = train_test_split(X, y, test_size=0.10, random_state=42)"
   ]
  },
  {
   "cell_type": "code",
   "execution_count": 8,
   "metadata": {
    "collapsed": false,
    "deletable": true,
    "editable": true
   },
   "outputs": [
    {
     "data": {
      "text/plain": [
       "(363861, 1677490)"
      ]
     },
     "execution_count": 8,
     "metadata": {},
     "output_type": "execute_result"
    }
   ],
   "source": [
    "X_train.shape"
   ]
  },
  {
   "cell_type": "code",
   "execution_count": 9,
   "metadata": {
    "collapsed": false,
    "deletable": true,
    "editable": true
   },
   "outputs": [
    {
     "data": {
      "text/plain": [
       "(2345796, 1677490)"
      ]
     },
     "execution_count": 9,
     "metadata": {},
     "output_type": "execute_result"
    }
   ],
   "source": [
    "X_test.shape"
   ]
  },
  {
   "cell_type": "code",
   "execution_count": 10,
   "metadata": {
    "collapsed": true,
    "deletable": true,
    "editable": true
   },
   "outputs": [],
   "source": [
    "rf = RandomForestClassifier(random_state=17, max_depth=10, n_estimators=100, n_jobs=-1, class_weight='balanced')"
   ]
  },
  {
   "cell_type": "code",
   "execution_count": 11,
   "metadata": {
    "collapsed": false,
    "deletable": true,
    "editable": true
   },
   "outputs": [
    {
     "data": {
      "text/plain": [
       "RandomForestClassifier(bootstrap=True, class_weight='balanced',\n",
       "            criterion='gini', max_depth=10, max_features='auto',\n",
       "            max_leaf_nodes=None, min_impurity_split=1e-07,\n",
       "            min_samples_leaf=1, min_samples_split=2,\n",
       "            min_weight_fraction_leaf=0.0, n_estimators=100, n_jobs=-1,\n",
       "            oob_score=False, random_state=17, verbose=0, warm_start=False)"
      ]
     },
     "execution_count": 11,
     "metadata": {},
     "output_type": "execute_result"
    }
   ],
   "source": [
    "rf.fit(X=X_train, y=y_train)"
   ]
  },
  {
   "cell_type": "code",
   "execution_count": 12,
   "metadata": {
    "collapsed": false,
    "deletable": true,
    "editable": true
   },
   "outputs": [
    {
     "name": "stdout",
     "output_type": "stream",
     "text": [
      "Log_loss - 10.3414610386\n",
      "Acc_loss - 0.700586212867\n"
     ]
    }
   ],
   "source": [
    "y_pred = rf.predict(X_val)\n",
    "l_loss   = log_loss(y_pred=y_pred, y_true=y_val)\n",
    "acc_loss = accuracy_score(y_pred=y_pred, y_true=y_val)\n",
    "\n",
    "print ('Log_loss - {}'.format(l_loss))\n",
    "print ('Acc_loss - {}'.format(acc_loss))"
   ]
  },
  {
   "cell_type": "code",
   "execution_count": 14,
   "metadata": {
    "collapsed": false,
    "deletable": true,
    "editable": true
   },
   "outputs": [],
   "source": [
    "rf = RandomForestClassifier(random_state=17, max_depth=10, n_estimators=100, n_jobs=-1, class_weight='balanced')\n",
    "rf.fit(X=X, y=y)\n",
    "y_test = rf.predict(X_test)"
   ]
  },
  {
   "cell_type": "code",
   "execution_count": 15,
   "metadata": {
    "collapsed": false,
    "deletable": true,
    "editable": true
   },
   "outputs": [],
   "source": [
    "submit(y_test, test, 'submissions/1_2_gramm.csv')"
   ]
  },
  {
   "cell_type": "code",
   "execution_count": 19,
   "metadata": {
    "collapsed": true,
    "deletable": true,
    "editable": true
   },
   "outputs": [],
   "source": [
    "save_sparse_csr(array=X, filename='np_models/x_train_1_2_gramm')\n",
    "save_sparse_csr(array=X_test, filename='np_models/x_test_1_2_gramm')"
   ]
  },
  {
   "cell_type": "code",
   "execution_count": null,
   "metadata": {
    "collapsed": true,
    "deletable": true,
    "editable": true
   },
   "outputs": [],
   "source": []
  }
 ],
 "metadata": {
  "kernelspec": {
   "display_name": "Python 2",
   "language": "python",
   "name": "python2"
  },
  "language_info": {
   "codemirror_mode": {
    "name": "ipython",
    "version": 2
   },
   "file_extension": ".py",
   "mimetype": "text/x-python",
   "name": "python",
   "nbconvert_exporter": "python",
   "pygments_lexer": "ipython2",
   "version": "2.7.12"
  }
 },
 "nbformat": 4,
 "nbformat_minor": 2
}
