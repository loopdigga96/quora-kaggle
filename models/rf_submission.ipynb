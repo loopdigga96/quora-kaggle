{
 "cells": [
  {
   "cell_type": "code",
   "execution_count": 1,
   "metadata": {
    "collapsed": true,
    "deletable": true,
    "editable": true
   },
   "outputs": [],
   "source": [
    "#1 tf-idf \n",
    "#2 td-idf + nltk.pos_tag\n",
    "#3 add n-grams\n",
    "#4 use microsoft nnet\n",
    "#5 use keras embedding with cnn\n",
    "\n",
    "#Previous score\n",
    "# Log_loss - 10.3227065134\n",
    "# Acc_loss - 0.70113037671"
   ]
  },
  {
   "cell_type": "code",
   "execution_count": 1,
   "metadata": {
    "collapsed": true,
    "deletable": true,
    "editable": true
   },
   "outputs": [],
   "source": [
    "def submit(y_pred, test, filename):\n",
    "    sub = pd.DataFrame()\n",
    "    sub = pd.DataFrame()\n",
    "    sub['test_id'] = test['test_id']\n",
    "    sub['is_duplicate'] = y_test\n",
    "    sub.to_csv(filename, index=False)\n",
    "\n",
    "def save_sparse_csr(filename,array):\n",
    "    np.savez(filename,data = array.data ,indices=array.indices,\n",
    "             indptr =array.indptr, shape=array.shape )\n",
    "\n",
    "def load_sparse_csr(filename):\n",
    "    loader = np.load(filename)\n",
    "    return csr_matrix((  loader['data'], loader['indices'], loader['indptr']),\n",
    "                         shape = loader['shape'])"
   ]
  },
  {
   "cell_type": "code",
   "execution_count": 15,
   "metadata": {
    "collapsed": false,
    "deletable": true,
    "editable": true
   },
   "outputs": [],
   "source": [
    "def correct_dataset(dataset):\n",
    "    dataset.loc[(dataset['question1'] == dataset['question2']), 'is_duplicate'] = 1\n",
    "    return dataset\n",
    "\n",
    "def process_dataset(dataset, correct_dataset=False):\n",
    "    dataset['question1'].fillna(' ', inplace=True)\n",
    "    dataset['question2'].fillna(' ', inplace=True)\n",
    "    \n",
    "    #delete punctuation\n",
    "    dataset['question1'] = dataset['question1'].str.replace('[^\\w\\s]','')\n",
    "    dataset['question2'] = dataset['question2'].str.replace('[^\\w\\s]','')\n",
    "\n",
    "    #lower questions\n",
    "    dataset['question1'] = dataset['question1'].str.lower()\n",
    "    dataset['question2'] = dataset['question2'].str.lower()\n",
    "\n",
    "    #union questions\n",
    "    dataset['union'] = pd.Series(dataset['question1']).str.cat(dataset['question2'], sep=' ')\n",
    "\n",
    "    if correct_dataset:\n",
    "        return correct_dataset(dataset)\n",
    "    else:\n",
    "        return dataset\n",
    "\n",
    "def split_and_rem_stop_words(line):\n",
    "    cachedStopWords = stopwords.words(\"english\")\n",
    "    return [word for word in line.split() if word not in cachedStopWords]"
   ]
  },
  {
   "cell_type": "code",
   "execution_count": 16,
   "metadata": {
    "collapsed": false,
    "deletable": true,
    "editable": true
   },
   "outputs": [],
   "source": [
    "import pandas as pd\n",
    "import numpy as np\n",
    "import seaborn as sns\n",
    "%matplotlib inline\n",
    "import nltk\n",
    "import sklearn as sk\n",
    "from sklearn.feature_extraction.text import TfidfVectorizer\n",
    "from keras.preprocessing.text import Tokenizer\n",
    "from keras.preprocessing.sequence import pad_sequences\n",
    "from keras.layers import Dense, Input, Flatten\n",
    "from keras.layers import Conv1D, MaxPooling1D, Embedding\n",
    "from keras.models import Model\n",
    "from sklearn.ensemble import RandomForestClassifier\n",
    "from sklearn.model_selection import train_test_split\n",
    "from sklearn.metrics import log_loss, accuracy_score\n",
    "from nltk.corpus import stopwords"
   ]
  },
  {
   "cell_type": "code",
   "execution_count": 4,
   "metadata": {
    "collapsed": false,
    "deletable": true,
    "editable": true
   },
   "outputs": [],
   "source": [
    "train = pd.read_csv('../datasets/train.csv')\n",
    "test = pd.read_csv('../datasets/test.csv')\n",
    "\n",
    "train = process_dataset(train)\n",
    "test = process_dataset(test)"
   ]
  },
  {
   "cell_type": "code",
   "execution_count": 18,
   "metadata": {
    "collapsed": false,
    "deletable": true,
    "editable": true
   },
   "outputs": [
    {
     "data": {
      "text/html": [
       "<div>\n",
       "<table border=\"1\" class=\"dataframe\">\n",
       "  <thead>\n",
       "    <tr style=\"text-align: right;\">\n",
       "      <th></th>\n",
       "      <th>id</th>\n",
       "      <th>qid1</th>\n",
       "      <th>qid2</th>\n",
       "      <th>question1</th>\n",
       "      <th>question2</th>\n",
       "      <th>is_duplicate</th>\n",
       "      <th>union</th>\n",
       "      <th>union_splitted</th>\n",
       "    </tr>\n",
       "  </thead>\n",
       "  <tbody>\n",
       "    <tr>\n",
       "      <th>0</th>\n",
       "      <td>0</td>\n",
       "      <td>1</td>\n",
       "      <td>2</td>\n",
       "      <td>what is the step by step guide to invest in sh...</td>\n",
       "      <td>what is the step by step guide to invest in sh...</td>\n",
       "      <td>0</td>\n",
       "      <td>what is the step by step guide to invest in sh...</td>\n",
       "      <td>[step, step, guide, invest, share, market, ind...</td>\n",
       "    </tr>\n",
       "    <tr>\n",
       "      <th>1</th>\n",
       "      <td>1</td>\n",
       "      <td>3</td>\n",
       "      <td>4</td>\n",
       "      <td>what is the story of kohinoor kohinoor diamond</td>\n",
       "      <td>what would happen if the indian government sto...</td>\n",
       "      <td>0</td>\n",
       "      <td>what is the story of kohinoor kohinoor diamond...</td>\n",
       "      <td>[story, kohinoor, kohinoor, diamond, would, ha...</td>\n",
       "    </tr>\n",
       "    <tr>\n",
       "      <th>2</th>\n",
       "      <td>2</td>\n",
       "      <td>5</td>\n",
       "      <td>6</td>\n",
       "      <td>how can i increase the speed of my internet co...</td>\n",
       "      <td>how can internet speed be increased by hacking...</td>\n",
       "      <td>0</td>\n",
       "      <td>how can i increase the speed of my internet co...</td>\n",
       "      <td>[increase, speed, internet, connection, using,...</td>\n",
       "    </tr>\n",
       "    <tr>\n",
       "      <th>3</th>\n",
       "      <td>3</td>\n",
       "      <td>7</td>\n",
       "      <td>8</td>\n",
       "      <td>why am i mentally very lonely how can i solve it</td>\n",
       "      <td>find the remainder when math2324math is divide...</td>\n",
       "      <td>0</td>\n",
       "      <td>why am i mentally very lonely how can i solve ...</td>\n",
       "      <td>[mentally, lonely, solve, find, remainder, mat...</td>\n",
       "    </tr>\n",
       "    <tr>\n",
       "      <th>4</th>\n",
       "      <td>4</td>\n",
       "      <td>9</td>\n",
       "      <td>10</td>\n",
       "      <td>which one dissolve in water quikly sugar salt ...</td>\n",
       "      <td>which fish would survive in salt water</td>\n",
       "      <td>0</td>\n",
       "      <td>which one dissolve in water quikly sugar salt ...</td>\n",
       "      <td>[one, dissolve, water, quikly, sugar, salt, me...</td>\n",
       "    </tr>\n",
       "  </tbody>\n",
       "</table>\n",
       "</div>"
      ],
      "text/plain": [
       "   id  qid1  qid2                                          question1  \\\n",
       "0   0     1     2  what is the step by step guide to invest in sh...   \n",
       "1   1     3     4     what is the story of kohinoor kohinoor diamond   \n",
       "2   2     5     6  how can i increase the speed of my internet co...   \n",
       "3   3     7     8   why am i mentally very lonely how can i solve it   \n",
       "4   4     9    10  which one dissolve in water quikly sugar salt ...   \n",
       "\n",
       "                                           question2  is_duplicate  \\\n",
       "0  what is the step by step guide to invest in sh...             0   \n",
       "1  what would happen if the indian government sto...             0   \n",
       "2  how can internet speed be increased by hacking...             0   \n",
       "3  find the remainder when math2324math is divide...             0   \n",
       "4             which fish would survive in salt water             0   \n",
       "\n",
       "                                               union  \\\n",
       "0  what is the step by step guide to invest in sh...   \n",
       "1  what is the story of kohinoor kohinoor diamond...   \n",
       "2  how can i increase the speed of my internet co...   \n",
       "3  why am i mentally very lonely how can i solve ...   \n",
       "4  which one dissolve in water quikly sugar salt ...   \n",
       "\n",
       "                                      union_splitted  \n",
       "0  [step, step, guide, invest, share, market, ind...  \n",
       "1  [story, kohinoor, kohinoor, diamond, would, ha...  \n",
       "2  [increase, speed, internet, connection, using,...  \n",
       "3  [mentally, lonely, solve, find, remainder, mat...  \n",
       "4  [one, dissolve, water, quikly, sugar, salt, me...  "
      ]
     },
     "execution_count": 18,
     "metadata": {},
     "output_type": "execute_result"
    }
   ],
   "source": [
    "train.head()"
   ]
  },
  {
   "cell_type": "code",
   "execution_count": 7,
   "metadata": {
    "collapsed": false,
    "deletable": true,
    "editable": true
   },
   "outputs": [],
   "source": [
    "TF_IDF = TfidfVectorizer(min_df=3, ngram_range=(1, 2), max_df=0.3, stop_words='english')\n",
    "#TF_IDF = TF_IDF.fit(train['union'].append(test['union']).tolist())\n",
    "\n",
    "TF_IDF = TF_IDF.fit(test['union'].tolist())\n",
    "\n",
    "X = TF_IDF.transform(train['union'].tolist())\n",
    "X_test = TF_IDF.transform(test['union'].tolist())\n",
    "\n",
    "y = train['is_duplicate'].tolist()\n",
    "X_train, X_val, y_train, y_val = train_test_split(X, y, test_size=0.10, random_state=42)"
   ]
  },
  {
   "cell_type": "code",
   "execution_count": 8,
   "metadata": {
    "collapsed": false,
    "deletable": true,
    "editable": true
   },
   "outputs": [
    {
     "data": {
      "text/plain": [
       "(363861, 1677490)"
      ]
     },
     "execution_count": 8,
     "metadata": {},
     "output_type": "execute_result"
    }
   ],
   "source": [
    "X_train.shape"
   ]
  },
  {
   "cell_type": "code",
   "execution_count": 9,
   "metadata": {
    "collapsed": false,
    "deletable": true,
    "editable": true
   },
   "outputs": [
    {
     "data": {
      "text/plain": [
       "(2345796, 1677490)"
      ]
     },
     "execution_count": 9,
     "metadata": {},
     "output_type": "execute_result"
    }
   ],
   "source": [
    "X_test.shape"
   ]
  },
  {
   "cell_type": "code",
   "execution_count": 10,
   "metadata": {
    "collapsed": true,
    "deletable": true,
    "editable": true
   },
   "outputs": [],
   "source": [
    "rf = RandomForestClassifier(random_state=17, max_depth=10, n_estimators=100, n_jobs=-1, class_weight='balanced')"
   ]
  },
  {
   "cell_type": "code",
   "execution_count": 11,
   "metadata": {
    "collapsed": false,
    "deletable": true,
    "editable": true
   },
   "outputs": [
    {
     "data": {
      "text/plain": [
       "RandomForestClassifier(bootstrap=True, class_weight='balanced',\n",
       "            criterion='gini', max_depth=10, max_features='auto',\n",
       "            max_leaf_nodes=None, min_impurity_split=1e-07,\n",
       "            min_samples_leaf=1, min_samples_split=2,\n",
       "            min_weight_fraction_leaf=0.0, n_estimators=100, n_jobs=-1,\n",
       "            oob_score=False, random_state=17, verbose=0, warm_start=False)"
      ]
     },
     "execution_count": 11,
     "metadata": {},
     "output_type": "execute_result"
    }
   ],
   "source": [
    "rf.fit(X=X_train, y=y_train)"
   ]
  },
  {
   "cell_type": "code",
   "execution_count": 12,
   "metadata": {
    "collapsed": false,
    "deletable": true,
    "editable": true
   },
   "outputs": [
    {
     "name": "stdout",
     "output_type": "stream",
     "text": [
      "Log_loss - 10.3414610386\n",
      "Acc_loss - 0.700586212867\n"
     ]
    }
   ],
   "source": [
    "y_pred = rf.predict(X_val)\n",
    "l_loss   = log_loss(y_pred=y_pred, y_true=y_val)\n",
    "acc_loss = accuracy_score(y_pred=y_pred, y_true=y_val)\n",
    "\n",
    "print ('Log_loss - {}'.format(l_loss))\n",
    "print ('Acc_loss - {}'.format(acc_loss))"
   ]
  },
  {
   "cell_type": "code",
   "execution_count": 14,
   "metadata": {
    "collapsed": false,
    "deletable": true,
    "editable": true
   },
   "outputs": [],
   "source": [
    "rf = RandomForestClassifier(random_state=17, max_depth=10, n_estimators=100, n_jobs=-1, class_weight='balanced')\n",
    "rf.fit(X=X, y=y)\n",
    "y_test = rf.predict(X_test)"
   ]
  },
  {
   "cell_type": "code",
   "execution_count": 15,
   "metadata": {
    "collapsed": false,
    "deletable": true,
    "editable": true
   },
   "outputs": [],
   "source": [
    "submit(y_test, test, '../submissions/1_2_gramm.csv')"
   ]
  },
  {
   "cell_type": "code",
   "execution_count": 19,
   "metadata": {
    "collapsed": true,
    "deletable": true,
    "editable": true
   },
   "outputs": [],
   "source": [
    "save_sparse_csr(array=X, filename='../np_saved/x_train_1_2_gramm')\n",
    "save_sparse_csr(array=X_test, filename='../np_saved/x_test_1_2_gramm')"
   ]
  },
  {
   "cell_type": "code",
   "execution_count": null,
   "metadata": {
    "collapsed": true,
    "deletable": true,
    "editable": true
   },
   "outputs": [],
   "source": [
    ""
   ]
  }
 ],
 "metadata": {
  "kernelspec": {
   "display_name": "Python 2",
   "language": "python",
   "name": "python2"
  },
  "language_info": {
   "codemirror_mode": {
    "name": "ipython",
    "version": 2.0
   },
   "file_extension": ".py",
   "mimetype": "text/x-python",
   "name": "python",
   "nbconvert_exporter": "python",
   "pygments_lexer": "ipython2",
   "version": "2.7.12"
  }
 },
 "nbformat": 4,
 "nbformat_minor": 0
}