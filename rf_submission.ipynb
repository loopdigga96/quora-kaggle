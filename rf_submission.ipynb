{
 "cells": [
  {
   "cell_type": "code",
   "execution_count": 1,
   "metadata": {
    "collapsed": true,
    "deletable": true,
    "editable": true
   },
   "outputs": [],
   "source": [
    "#1 tf-idf \n",
    "#2 td-idf + nltk.pos_tag\n",
    "#3 add n-grams\n",
    "#4 use microsoft nnet\n",
    "#5 use keras embedding with cnn\n",
    "\n",
    "#Previous score\n",
    "# Log_loss - 10.3227065134\n",
    "# Acc_loss - 0.70113037671"
   ]
  },
  {
   "cell_type": "code",
   "execution_count": 2,
   "metadata": {
    "collapsed": true
   },
   "outputs": [],
   "source": [
    "def submit(y_pred, test, filename):\n",
    "    sub = pd.DataFrame()\n",
    "    sub = pd.DataFrame()\n",
    "    sub['test_id'] = test['test_id']\n",
    "    sub['is_duplicate'] = y_test\n",
    "    sub.to_csv(filename, index=False)\n",
    "\n",
    "def save_sparse_csr(filename,array):\n",
    "    np.savez(filename,data = array.data ,indices=array.indices,\n",
    "             indptr =array.indptr, shape=array.shape )\n",
    "\n",
    "def load_sparse_csr(filename):\n",
    "    loader = np.load(filename)\n",
    "    return csr_matrix((  loader['data'], loader['indices'], loader['indptr']),\n",
    "                         shape = loader['shape'])"
   ]
  },
  {
   "cell_type": "code",
   "execution_count": 3,
   "metadata": {
    "collapsed": false,
    "deletable": true,
    "editable": true
   },
   "outputs": [],
   "source": [
    "def correct_dataset(dataset):\n",
    "    dataset.loc[(dataset['question1'] == dataset['question2']), 'is_duplicate'] = 1\n",
    "    return dataset\n",
    "\n",
    "def process_dataset(dataset, correct_dataset=False):\n",
    "    dataset['question1'].fillna(' ', inplace=True)\n",
    "    dataset['question2'].fillna(' ', inplace=True)\n",
    "    #delete punctuation\n",
    "    dataset['question1'] = dataset['question1'].str.replace('[^\\w\\s]','')\n",
    "    dataset['question2'] = dataset['question2'].str.replace('[^\\w\\s]','')\n",
    "\n",
    "    #lower questions\n",
    "    dataset['question1'] = dataset['question1'].str.lower()\n",
    "    dataset['question2'] = dataset['question2'].str.lower()\n",
    "\n",
    "    #union questions\n",
    "    dataset['union'] = pd.Series(dataset['question1']).str.cat(dataset['question2'], sep=' ')\n",
    "\n",
    "    if correct_dataset:\n",
    "        return correct_dataset(dataset)\n",
    "    else:\n",
    "        return dataset"
   ]
  },
  {
   "cell_type": "code",
   "execution_count": 4,
   "metadata": {
    "collapsed": false,
    "deletable": true,
    "editable": true
   },
   "outputs": [
    {
     "name": "stderr",
     "output_type": "stream",
     "text": [
      "Using Theano backend.\n"
     ]
    }
   ],
   "source": [
    "import pandas as pd\n",
    "import numpy as np\n",
    "import seaborn as sns\n",
    "%matplotlib inline\n",
    "import nltk\n",
    "import sklearn as sk\n",
    "from sklearn.feature_extraction.text import TfidfVectorizer\n",
    "from keras.preprocessing.text import Tokenizer\n",
    "from keras.preprocessing.sequence import pad_sequences\n",
    "from keras.layers import Dense, Input, Flatten\n",
    "from keras.layers import Conv1D, MaxPooling1D, Embedding\n",
    "from keras.models import Model\n",
    "from sklearn.ensemble import RandomForestClassifier\n",
    "from sklearn.model_selection import train_test_split\n",
    "from sklearn.metrics import log_loss, accuracy_score"
   ]
  },
  {
   "cell_type": "code",
   "execution_count": 5,
   "metadata": {
    "collapsed": false,
    "deletable": true,
    "editable": true
   },
   "outputs": [],
   "source": [
    "train = pd.read_csv('datasets/train.csv')\n",
    "test = pd.read_csv('datasets/test.csv')\n",
    "\n",
    "train = process_dataset(train)\n",
    "test = process_dataset(test)"
   ]
  },
  {
   "cell_type": "code",
   "execution_count": 7,
   "metadata": {
    "collapsed": false
   },
   "outputs": [],
   "source": [
    "TF_IDF = TfidfVectorizer(min_df=3, ngram_range=(1, 2), max_df=0.3, stop_words='english')\n",
    "#TF_IDF = TF_IDF.fit(train['union'].append(test['union']).tolist())\n",
    "\n",
    "TF_IDF = TF_IDF.fit(test['union'].tolist())\n",
    "\n",
    "X = TF_IDF.transform(train['union'].tolist())\n",
    "X_test = TF_IDF.transform(test['union'].tolist())\n",
    "\n",
    "y = train['is_duplicate'].tolist()\n",
    "X_train, X_val, y_train, y_val = train_test_split(X, y, test_size=0.10, random_state=42)"
   ]
  },
  {
   "cell_type": "code",
   "execution_count": 8,
   "metadata": {
    "collapsed": false
   },
   "outputs": [
    {
     "data": {
      "text/plain": [
       "(363861, 1677490)"
      ]
     },
     "execution_count": 8,
     "metadata": {},
     "output_type": "execute_result"
    }
   ],
   "source": [
    "X_train.shape"
   ]
  },
  {
   "cell_type": "code",
   "execution_count": 9,
   "metadata": {
    "collapsed": false
   },
   "outputs": [
    {
     "data": {
      "text/plain": [
       "(2345796, 1677490)"
      ]
     },
     "execution_count": 9,
     "metadata": {},
     "output_type": "execute_result"
    }
   ],
   "source": [
    "X_test.shape"
   ]
  },
  {
   "cell_type": "code",
   "execution_count": 10,
   "metadata": {
    "collapsed": true
   },
   "outputs": [],
   "source": [
    "rf = RandomForestClassifier(random_state=17, max_depth=10, n_estimators=100, n_jobs=-1, class_weight='balanced')"
   ]
  },
  {
   "cell_type": "code",
   "execution_count": 11,
   "metadata": {
    "collapsed": false
   },
   "outputs": [
    {
     "data": {
      "text/plain": [
       "RandomForestClassifier(bootstrap=True, class_weight='balanced',\n",
       "            criterion='gini', max_depth=10, max_features='auto',\n",
       "            max_leaf_nodes=None, min_impurity_split=1e-07,\n",
       "            min_samples_leaf=1, min_samples_split=2,\n",
       "            min_weight_fraction_leaf=0.0, n_estimators=100, n_jobs=-1,\n",
       "            oob_score=False, random_state=17, verbose=0, warm_start=False)"
      ]
     },
     "execution_count": 11,
     "metadata": {},
     "output_type": "execute_result"
    }
   ],
   "source": [
    "rf.fit(X=X_train, y=y_train)"
   ]
  },
  {
   "cell_type": "code",
   "execution_count": 12,
   "metadata": {
    "collapsed": false
   },
   "outputs": [
    {
     "name": "stdout",
     "output_type": "stream",
     "text": [
      "Log_loss - 10.3414610386\n",
      "Acc_loss - 0.700586212867\n"
     ]
    }
   ],
   "source": [
    "y_pred = rf.predict(X_val)\n",
    "l_loss   = log_loss(y_pred=y_pred, y_true=y_val)\n",
    "acc_loss = accuracy_score(y_pred=y_pred, y_true=y_val)\n",
    "\n",
    "print ('Log_loss - {}'.format(l_loss))\n",
    "print ('Acc_loss - {}'.format(acc_loss))"
   ]
  },
  {
   "cell_type": "code",
   "execution_count": 14,
   "metadata": {
    "collapsed": false
   },
   "outputs": [],
   "source": [
    "rf = RandomForestClassifier(random_state=17, max_depth=10, n_estimators=100, n_jobs=-1, class_weight='balanced')\n",
    "rf.fit(X=X, y=y)\n",
    "y_test = rf.predict(X_test)"
   ]
  },
  {
   "cell_type": "code",
   "execution_count": 15,
   "metadata": {
    "collapsed": false
   },
   "outputs": [],
   "source": [
    "submit(y_test, test, '1_2_gramm.csv')"
   ]
  },
  {
   "cell_type": "code",
   "execution_count": 19,
   "metadata": {
    "collapsed": true
   },
   "outputs": [],
   "source": [
    "save_sparse_csr(array=X, filename='x_train_1_2_gramm')\n",
    "save_sparse_csr(array=X_test, filename='x_test_1_2_gramm')"
   ]
  },
  {
   "cell_type": "code",
   "execution_count": null,
   "metadata": {
    "collapsed": true
   },
   "outputs": [],
   "source": []
  }
 ],
 "metadata": {
  "kernelspec": {
   "display_name": "Python 2",
   "language": "python",
   "name": "python2"
  },
  "language_info": {
   "codemirror_mode": {
    "name": "ipython",
    "version": 2
   },
   "file_extension": ".py",
   "mimetype": "text/x-python",
   "name": "python",
   "nbconvert_exporter": "python",
   "pygments_lexer": "ipython2",
   "version": "2.7.10"
  }
 },
 "nbformat": 4,
 "nbformat_minor": 2
}
